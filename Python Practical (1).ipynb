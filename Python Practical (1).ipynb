{
 "cells": [
  {
   "cell_type": "raw",
   "id": "ca960a93-2dc5-4c3f-934c-61c950e9a4cd",
   "metadata": {},
   "source": [
    "Python Practical Questions.\n"
   ]
  },
  {
   "cell_type": "raw",
   "id": "38fa57b7-cbf5-4b3b-81b1-0b8977f9cb93",
   "metadata": {},
   "source": [
    "Ques 1) Write a Python Program to Print \"Hello, World\"!.\n"
   ]
  },
  {
   "cell_type": "code",
   "execution_count": 2,
   "id": "9477d88c-a943-4759-9639-c495b8265b43",
   "metadata": {},
   "outputs": [
    {
     "name": "stdout",
     "output_type": "stream",
     "text": [
      "Hello, World!\n"
     ]
    }
   ],
   "source": [
    "\n",
    "print(\"Hello, World!\")\n"
   ]
  },
  {
   "cell_type": "raw",
   "id": "b18262de-c92f-4d54-a216-1d739ecc6135",
   "metadata": {},
   "source": [
    "Ques 2) Write a Python Program that display your name and age?"
   ]
  },
  {
   "cell_type": "code",
   "execution_count": 6,
   "id": "85477243-93ba-44e3-a4cd-e0f7e12021e2",
   "metadata": {},
   "outputs": [
    {
     "name": "stdout",
     "output_type": "stream",
     "text": [
      "My name is zoya\n",
      "I am 21 years old\n"
     ]
    }
   ],
   "source": [
    "name = \"zoya\"\n",
    "age = 21\n",
    "print(\"My name is zoya\")\n",
    "print(\"I am 21 years old\")"
   ]
  },
  {
   "cell_type": "raw",
   "id": "a32fabcc-072a-455a-9f6d-80bb42473cb9",
   "metadata": {},
   "source": [
    "Ques 3) Write code to print all the pre -defined keywords in Python using the keyword library."
   ]
  },
  {
   "cell_type": "code",
   "execution_count": 8,
   "id": "235e63fc-05c0-44e6-ac1b-e65bf47fabbc",
   "metadata": {},
   "outputs": [
    {
     "name": "stdout",
     "output_type": "stream",
     "text": [
      "Python Keywords are:\n",
      "['False', 'None', 'True', 'and', 'as', 'assert', 'async', 'await', 'break', 'class', 'continue', 'def', 'del', 'elif', 'else', 'except', 'finally', 'for', 'from', 'global', 'if', 'import', 'in', 'is', 'lambda', 'nonlocal', 'not', 'or', 'pass', 'raise', 'return', 'try', 'while', 'with', 'yield']\n"
     ]
    }
   ],
   "source": [
    "\n",
    "\n",
    "import keyword\n",
    "\n",
    "print(\"Python Keywords are:\")\n",
    "print(keyword.kwlist)\n"
   ]
  },
  {
   "cell_type": "raw",
   "id": "d1e43300-fefc-47c6-876c-ef649808d373",
   "metadata": {},
   "source": [
    "Ques 4) Write a program that check if a given word is a Python keyword."
   ]
  },
  {
   "cell_type": "code",
   "execution_count": 10,
   "id": "b11ddf6a-f0cc-4e75-ae56-4a682801364c",
   "metadata": {},
   "outputs": [
    {
     "name": "stdin",
     "output_type": "stream",
     "text": [
      "for \"Hello\"\n"
     ]
    },
    {
     "name": "stdout",
     "output_type": "stream",
     "text": [
      "'\"Hello\"' is NOT a Python keyword.\n"
     ]
    }
   ],
   "source": [
    "\n",
    "import keyword\n",
    "word = input(\"Hello\")\n",
    "if keyword.iskeyword(word):\n",
    "    print(f\"'{word}' is a Python keyword.\")\n",
    "else:\n",
    "    print(f\"'{word}' is NOT a Python keyword.\")\n"
   ]
  },
  {
   "cell_type": "raw",
   "id": "db507367-6cd5-47f4-bb6f-a87ab409fdb7",
   "metadata": {},
   "source": [
    "Ques 5) Create a list and tuple in Python,and demonstrate how attempting to change an element works differently for each.\n"
   ]
  },
  {
   "cell_type": "code",
   "execution_count": 1,
   "id": "63143c9a-20d2-4584-b247-774b9d9760cb",
   "metadata": {},
   "outputs": [
    {
     "name": "stdout",
     "output_type": "stream",
     "text": [
      "Modified list: [10, 200, 30]\n",
      "Error when trying to modify tuple: 'tuple' object does not support item assignment\n"
     ]
    }
   ],
   "source": [
    "\n",
    "my_list = [10, 20, 30]\n",
    "my_tuple = (10, 20, 30)\n",
    "my_list[1] = 200\n",
    "print(\"Modified list:\", my_list)\n",
    "\n",
    "try:\n",
    "    my_tuple[1] = 200\n",
    "except TypeError as e:\n",
    "    print(\"Error when trying to modify tuple:\", e)\n"
   ]
  },
  {
   "cell_type": "code",
   "execution_count": null,
   "id": "f8333e99-3485-4f12-8ac4-2083924a8040",
   "metadata": {},
   "outputs": [],
   "source": [
    "Ques 6) Write a function to demonstrate the behaviour of Mutable and Immutable arguments.\n"
   ]
  },
  {
   "cell_type": "code",
   "execution_count": 1,
   "id": "38ef7881-8777-47b9-8f8d-293e7c046762",
   "metadata": {},
   "outputs": [
    {
     "name": "stdout",
     "output_type": "stream",
     "text": [
      "Inside function: 15 [1, 2, 3, 4]\n",
      "Outside function: 10 [1, 2, 3, 4]\n"
     ]
    }
   ],
   "source": [
    "def test_mutable_immutable(a, b):\n",
    "    a += 5\n",
    "    b.append(4)\n",
    "    print(\"Inside function:\", a, b)\n",
    "\n",
    "x = 10           # Immutable (int)\n",
    "y = [1, 2, 3]     # Mutable (list)\n",
    "\n",
    "test_mutable_immutable(x, y)\n",
    "print(\"Outside function:\", x, y)\n"
   ]
  },
  {
   "cell_type": "raw",
   "id": "43d60eaf-59d4-4388-8999-23531cd5dfbc",
   "metadata": {},
   "source": [
    "Ques 7) Write a program to demonstrate the use of logical operators."
   ]
  },
  {
   "cell_type": "code",
   "execution_count": 2,
   "id": "6c8dcbb3-b789-4635-8566-24aadf1d3eb1",
   "metadata": {},
   "outputs": [
    {
     "name": "stdout",
     "output_type": "stream",
     "text": [
      "Values:\n",
      "a = True\n",
      "b = False\n",
      "\n",
      "a AND b = False\n",
      "a OR b = True\n",
      "NOT a = False\n",
      "NOT b = True\n",
      "\n",
      "Example with numbers:\n",
      "x = 10\n",
      "y = 5\n",
      "Both x and y are positive\n",
      "Neither x nor y is negative\n"
     ]
    }
   ],
   "source": [
    "\n",
    "a = True\n",
    "b = False\n",
    "\n",
    "print(\"Values:\")\n",
    "print(\"a =\", a)\n",
    "print(\"b =\", b)\n",
    "\n",
    "# Logical AND\n",
    "result_and = a and b\n",
    "print(\"\\na AND b =\", result_and)\n",
    "\n",
    "# Logical OR\n",
    "result_or = a or b\n",
    "print(\"a OR b =\", result_or)\n",
    "\n",
    "# Logical NOT\n",
    "result_not_a = not a\n",
    "result_not_b = not b\n",
    "print(\"NOT a =\", result_not_a)\n",
    "print(\"NOT b =\", result_not_b)\n",
    "\n",
    "x = 10\n",
    "y = 5\n",
    "print(\"\\nExample with numbers:\")\n",
    "print(\"x =\", x)\n",
    "print(\"y =\", y)\n",
    "\n",
    "if x > 0 and y > 0:\n",
    "    print(\"Both x and y are positive\")\n",
    "\n",
    "if x < 0 or y < 0:\n",
    "    print(\"At least one number is negative\")\n",
    "else:\n",
    "    print(\"Neither x nor y is negative\")\n"
   ]
  },
  {
   "cell_type": "raw",
   "id": "c5c7f698-2db5-4d03-95cd-d983c1f026c3",
   "metadata": {},
   "source": [
    "Ques 8) Write a Python program to convert user input from string to integer, float, and boolean types."
   ]
  },
  {
   "cell_type": "code",
   "execution_count": 3,
   "id": "fa76c643-b532-4715-b87c-2114d16ac5a5",
   "metadata": {},
   "outputs": [
    {
     "name": "stdin",
     "output_type": "stream",
     "text": [
      "Enter a value:  \"Zoya\"\n"
     ]
    },
    {
     "name": "stdout",
     "output_type": "stream",
     "text": [
      "Cannot convert to integer.\n",
      "Cannot convert to float.\n",
      "Boolean conversion: True\n"
     ]
    }
   ],
   "source": [
    "\n",
    "user_input = input(\"Zoya\":)\n",
    "\n",
    "try:\n",
    "    int_value = int(user_input)\n",
    "    print(\"Integer conversion:\", int_value)\n",
    "except ValueError:\n",
    "    print(\"Cannot convert to integer.\")\n",
    "\n",
    "try:\n",
    "    float_value = float(user_input)\n",
    "    print(\"Float conversion:\", float_value)\n",
    "except ValueError:\n",
    "    print(\"Cannot convert to float.\")\n",
    "bool_value = bool(user_input)\n",
    "print(\"Boolean conversion:\", bool_value)\n"
   ]
  },
  {
   "cell_type": "raw",
   "id": "634abf59-2544-4a8f-81f4-8ac26c6f87a3",
   "metadata": {},
   "source": [
    "Ques 9) Write code to demonstrate type casting with list element.\n"
   ]
  },
  {
   "cell_type": "code",
   "execution_count": 1,
   "id": "8acf7003-ff63-43ae-9ca2-3a7b1d604991",
   "metadata": {},
   "outputs": [
    {
     "name": "stdout",
     "output_type": "stream",
     "text": [
      "Original list (strings): ['10', '20', '30', '40']\n",
      "Type casted list (integers): [10, 20, 30, 40]\n"
     ]
    }
   ],
   "source": [
    "\n",
    "string_list = ['10', '20', '30', '40']\n",
    "\n",
    "int_list = [int(element) for element in string_list]\n",
    "\n",
    "# Output the result\n",
    "print(\"Original list (strings):\", string_list)\n",
    "print(\"Type casted list (integers):\", int_list)\n"
   ]
  },
  {
   "cell_type": "raw",
   "id": "671cda6e-94be-4fd4-b01d-eac6874e793d",
   "metadata": {},
   "source": [
    "Ques 10) Write a program that checks if a number is positive, negative, or zero."
   ]
  },
  {
   "cell_type": "code",
   "execution_count": 5,
   "id": "5d2e03f7-a424-4c27-ba64-5100bcec5fb7",
   "metadata": {},
   "outputs": [
    {
     "name": "stdin",
     "output_type": "stream",
     "text": [
      "Enter a number:  22\n"
     ]
    },
    {
     "name": "stdout",
     "output_type": "stream",
     "text": [
      "The number is positive.\n"
     ]
    }
   ],
   "source": [
    "# Get input from the user\n",
    "num = float(input(\"22: \"))\n",
    "\n",
    "# Check the condition\n",
    "if 22 > 0:\n",
    "    print(\"The number is positive.\")\n",
    "elif 22 < 0:\n",
    "    print(\"The number is negative.\")\n",
    "else:\n",
    "    print(\"The number is zero.\")\n"
   ]
  },
  {
   "cell_type": "raw",
   "id": "57cd6a4d-e88a-47e2-aa70-b20ad4a5a40e",
   "metadata": {},
   "source": [
    "Ques 12) Write a  for loop to print number from  1 to 10."
   ]
  },
  {
   "cell_type": "code",
   "execution_count": 7,
   "id": "cf4db03f-db56-4f9b-b395-2bd1a897a153",
   "metadata": {},
   "outputs": [
    {
     "name": "stdout",
     "output_type": "stream",
     "text": [
      "1\n",
      "2\n",
      "3\n",
      "4\n",
      "5\n",
      "6\n",
      "7\n",
      "8\n",
      "9\n"
     ]
    }
   ],
   "source": [
    "for i in range(1, 10):\n",
    "    print(i)\n"
   ]
  },
  {
   "cell_type": "raw",
   "id": "d453c4cb-48d1-4105-a9bc-8f505c27e6cc",
   "metadata": {},
   "source": [
    "Ques 13) Write a Python program to find the sum  of all even number between 1 and 50."
   ]
  },
  {
   "cell_type": "code",
   "execution_count": 10,
   "id": "141df56b-3382-4816-9463-6d62a0ab5264",
   "metadata": {},
   "outputs": [
    {
     "name": "stdout",
     "output_type": "stream",
     "text": [
      "Sum of even numbers from 1 to 50 is: 650\n"
     ]
    }
   ],
   "source": [
    "\n",
    "sum_even = 0\n",
    "\n",
    "# Loop through numbers from 1 to 50\n",
    "for num in range(1, 51):\n",
    "    if num % 2 == 0:\n",
    "        sum_even += num\n",
    "\n",
    "# Print the result\n",
    "print(\"Sum of even numbers from 1 to 50 is:\", sum_even)\n"
   ]
  },
  {
   "cell_type": "raw",
   "id": "83673514-de14-42dc-a8eb-290a0215f493",
   "metadata": {},
   "source": [
    "Ques 14) Write a program to reverse a string using a while loop.\n"
   ]
  },
  {
   "cell_type": "code",
   "execution_count": 12,
   "id": "2ffaa95c-3eb7-449d-bbdb-91f35eed7150",
   "metadata": {},
   "outputs": [
    {
     "name": "stdin",
     "output_type": "stream",
     "text": [
      "Zoya:  \"Zoya\"\n"
     ]
    },
    {
     "name": "stdout",
     "output_type": "stream",
     "text": [
      "Reversed string: \"ayoZ\"\n"
     ]
    }
   ],
   "source": [
    "\n",
    "text = input(\"Zoya: \")\n",
    "\n",
    "# Initialize variables\n",
    "reversed_text = \"\"\n",
    "index = len(text) - 1\n",
    "\n",
    "# Use while loop to reverse the string\n",
    "while index >= 0:\n",
    "    reversed_text += text[index]\n",
    "    index -= 1\n",
    "\n",
    "# Print the reversed string\n",
    "print(\"Reversed string:\", reversed_text)\n"
   ]
  },
  {
   "cell_type": "raw",
   "id": "c23f6a3c-6202-484a-b7a1-8735b834b5e2",
   "metadata": {},
   "source": [
    "Ques 15) Write a Python program to calculate the factorial of a number provided by the user using a while loop.\n"
   ]
  },
  {
   "cell_type": "code",
   "execution_count": 13,
   "id": "7ff747a9-1426-41bf-b1e7-18dd8dc5deb5",
   "metadata": {},
   "outputs": [
    {
     "name": "stdin",
     "output_type": "stream",
     "text": [
      "Enter a non-negative integer:  44\n"
     ]
    },
    {
     "name": "stdout",
     "output_type": "stream",
     "text": [
      "The factorial of 44 is: 2658271574788448768043625811014615890319638528000000000\n"
     ]
    }
   ],
   "source": [
    "\n",
    "num = int(input(\"44: \"))\n",
    "\n",
    "# Initialize variables\n",
    "factorial = 1\n",
    "i = 1\n",
    "if num < 0:\n",
    "    print(\"Factorial is not defined for negative numbers.\")\n",
    "else:\n",
    "    # Use while loop to calculate factorial\n",
    "    while i <= num:\n",
    "        factorial *= i\n",
    "        i += 1\n",
    "    print(f\"The factorial of {num} is: {factorial}\")\n"
   ]
  },
  {
   "cell_type": "code",
   "execution_count": null,
   "id": "43a38115-2d6d-4c3c-bd46-93d78dd4ab46",
   "metadata": {},
   "outputs": [],
   "source": []
  }
 ],
 "metadata": {
  "kernelspec": {
   "display_name": "Python 3 (ipykernel)",
   "language": "python",
   "name": "python3"
  },
  "language_info": {
   "codemirror_mode": {
    "name": "ipython",
    "version": 3
   },
   "file_extension": ".py",
   "mimetype": "text/x-python",
   "name": "python",
   "nbconvert_exporter": "python",
   "pygments_lexer": "ipython3",
   "version": "3.12.7"
  }
 },
 "nbformat": 4,
 "nbformat_minor": 5
}
